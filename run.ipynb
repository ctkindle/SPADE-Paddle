{
 "cells": [
  {
   "cell_type": "code",
   "execution_count": null,
   "id": "8a4ceb79",
   "metadata": {},
   "outputs": [],
   "source": [
    "# 改回ngf&ndf, 取消early stop， 启用vgg\n",
    "!python train.py"
   ]
  },
  {
   "cell_type": "code",
   "execution_count": 21,
   "id": "3771acd2",
   "metadata": {},
   "outputs": [
    {
     "name": "stdout",
     "output_type": "stream",
     "text": [
      "已经完成 [1] 轮训练，开始验证...\n",
      "读取存储的模型权重、优化器参数...\n"
     ]
    }
   ],
   "source": [
    "# 取消val early stop\n",
    "!python val.py"
   ]
  }
 ],
 "metadata": {
  "kernelspec": {
   "display_name": "Python 3",
   "language": "python",
   "name": "python3"
  },
  "language_info": {
   "codemirror_mode": {
    "name": "ipython",
    "version": 3
   },
   "file_extension": ".py",
   "mimetype": "text/x-python",
   "name": "python",
   "nbconvert_exporter": "python",
   "pygments_lexer": "ipython3",
   "version": "3.9.4"
  }
 },
 "nbformat": 4,
 "nbformat_minor": 5
}
