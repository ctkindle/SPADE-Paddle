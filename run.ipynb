{
 "cells": [
  {
   "cell_type": "code",
   "execution_count": 2,
   "id": "5f2fe727",
   "metadata": {},
   "outputs": [
    {
     "name": "stdout",
     "output_type": "stream",
     "text": [
      "初始化训练轮数，开始第 1 轮训练..."
     ]
    },
    {
     "name": "stderr",
     "output_type": "stream",
     "text": [
      "D:\\github_ws\\SPADE-Paddle\\model\\generator.py:30: DeprecationWarning: invalid escape sequence \\D\n",
      "  parsed = re.search('spade(\\D+)(\\d)x\\d', config_text)\n",
      "C:\\Users\\Admin\\AppData\\Local\\Programs\\Python\\Python39\\lib\\site-packages\\paddle\\distributed\\parallel.py:119: UserWarning: Currently not a parallel execution environment, `paddle.distributed.init_parallel_env` will not do anything.\n",
      "  warnings.warn(\n",
      "C:\\Users\\Admin\\AppData\\Local\\Programs\\Python\\Python39\\lib\\site-packages\\paddle\\fluid\\reader.py:357: UserWarning: DataLoader with multi-process mode is not supported on MacOs and Windows currently. Please use signle-process mode with num_workers = 0 instead\n",
      "  warnings.warn(\n",
      "C:\\Users\\Admin\\AppData\\Local\\Programs\\Python\\Python39\\lib\\site-packages\\paddle\\fluid\\dygraph\\parallel.py:515: UserWarning: The program will return to single-card operation. Please check 1, whether you use spawn or fleetrun to start the program. 2, Whether it is a multi-card program. 3, Is the current environment multi-card.\n",
      "  warnings.warn(\"The program will return to single-card operation. \"\n",
      "C:\\Users\\Admin\\AppData\\Local\\Programs\\Python\\Python39\\lib\\site-packages\\paddle\\nn\\layer\\norm.py:640: UserWarning: When training, we now always track global mean and variance.\n",
      "  warnings.warn(\n"
     ]
    },
    {
     "name": "stdout",
     "output_type": "stream",
     "text": [
      "\n",
      "epoch: 1 step: 0 g_loss_gan: [0.18064055] g_loss_feat: [7.041887] g_loss_vgg: None g_loss_vae: None d_loss_f: [0.89227915] d_loss_r: [1.1900563]\n",
      "epoch: 1 step: 1 g_loss_gan: [0.16249481] g_loss_feat: [6.6867476] g_loss_vgg: None g_loss_vae: None d_loss_f: [0.90873027] d_loss_r: [1.1776998]\n",
      "epoch: 1 step: 2 g_loss_gan: [0.15514703] g_loss_feat: [8.249039] g_loss_vgg: None g_loss_vae: None d_loss_f: [0.9065417] d_loss_r: [1.171052]\n",
      "epoch: 1 step: 3 g_loss_gan: [0.16190088] g_loss_feat: [6.5198317] g_loss_vgg: None g_loss_vae: None d_loss_f: [0.8916549] d_loss_r: [1.1768923]\n",
      "epoch: 1 step: 4 g_loss_gan: [0.13430107] g_loss_feat: [6.5895867] g_loss_vgg: None g_loss_vae: None d_loss_f: [0.9325185] d_loss_r: [1.1811676]\n",
      "epoch: 1 step: 5 g_loss_gan: [0.14570591] g_loss_feat: [8.536932] g_loss_vgg: None g_loss_vae: None d_loss_f: [0.91219467] d_loss_r: [1.1657219]\n",
      "epoch: 1 step: 6 g_loss_gan: [0.14912507] g_loss_feat: [6.122027] g_loss_vgg: None g_loss_vae: None d_loss_f: [0.9161439] d_loss_r: [1.1674919]\n",
      "epoch: 1 step: 7 g_loss_gan: [0.15323083] g_loss_feat: [6.681372] g_loss_vgg: None g_loss_vae: None d_loss_f: [0.907403] d_loss_r: [1.1697247]\n",
      "epoch: 1 step: 8 g_loss_gan: [0.14123109] g_loss_feat: [6.2998056] g_loss_vgg: None g_loss_vae: None d_loss_f: [0.9224287] d_loss_r: [1.1660115]\n",
      "epoch: 1 step: 9 g_loss_gan: [0.14333239] g_loss_feat: [8.504665] g_loss_vgg: None g_loss_vae: None d_loss_f: [0.92169523] d_loss_r: [1.1510689]\n",
      "epoch: 1 step: 10 g_loss_gan: [0.14327997] g_loss_feat: [5.1340785] g_loss_vgg: None g_loss_vae: None d_loss_f: [0.913151] d_loss_r: [1.1480215]\n",
      "epoch: 1 step: 11 g_loss_gan: [0.13835897] g_loss_feat: [4.254295] g_loss_vgg: None g_loss_vae: None d_loss_f: [0.9049716] d_loss_r: [1.1635954]\n",
      "epoch: 1 step: 12 g_loss_gan: [0.13466583] g_loss_feat: [7.0116773] g_loss_vgg: None g_loss_vae: None d_loss_f: [0.9207513] d_loss_r: [1.1485326]\n",
      "第[1]轮模型保存完成。用时[00:11:28] 开始时间： 2021-09-13 21:21:47 结束时间： 2021-09-13 21:33:15\n"
     ]
    }
   ],
   "source": [
    "# todo list:\n",
    "# 改回 ngf ndf\n",
    "\n",
    "# 单卡训练\n",
    "!python train.py"
   ]
  },
  {
   "cell_type": "code",
   "execution_count": 13,
   "id": "b0e6ca3f",
   "metadata": {
    "scrolled": true
   },
   "outputs": [
    {
     "name": "stdout",
     "output_type": "stream",
     "text": [
      "已经完成 [1] 轮训练，开始验证...\n",
      "读取存储的模型权重、优化器参数...\n"
     ]
    }
   ],
   "source": [
    "# 验证\n",
    "!python val.py"
   ]
  },
  {
   "cell_type": "code",
   "execution_count": 23,
   "id": "d7b37461",
   "metadata": {
    "scrolled": true
   },
   "outputs": [
    {
     "name": "stdout",
     "output_type": "stream",
     "text": [
      "开始验证...\n",
      "读取存储的模型权重...\n"
     ]
    }
   ],
   "source": [
    "# 预测\n",
    "!python predict.py"
   ]
  },
  {
   "cell_type": "code",
   "execution_count": 25,
   "id": "2eea2b07",
   "metadata": {},
   "outputs": [],
   "source": [
    "# 多卡训练\n",
    "!python -m paddle.distributed.launch train.py"
   ]
  }
 ],
 "metadata": {
  "kernelspec": {
   "display_name": "Python 3",
   "language": "python",
   "name": "python3"
  },
  "language_info": {
   "codemirror_mode": {
    "name": "ipython",
    "version": 3
   },
   "file_extension": ".py",
   "mimetype": "text/x-python",
   "name": "python",
   "nbconvert_exporter": "python",
   "pygments_lexer": "ipython3",
   "version": "3.9.4"
  }
 },
 "nbformat": 4,
 "nbformat_minor": 5
}
