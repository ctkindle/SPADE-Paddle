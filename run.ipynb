{
 "cells": [
  {
   "cell_type": "code",
   "execution_count": 1,
   "id": "5f2fe727",
   "metadata": {},
   "outputs": [
    {
     "name": "stdout",
     "output_type": "stream",
     "text": [
      "初始化训练轮数，开始第 1 轮训练..."
     ]
    },
    {
     "name": "stderr",
     "output_type": "stream",
     "text": [
      "C:\\Users\\Admin\\AppData\\Local\\Programs\\Python\\Python39\\lib\\site-packages\\paddle\\distributed\\parallel.py:119: UserWarning: Currently not a parallel execution environment, `paddle.distributed.init_parallel_env` will not do anything.\n",
      "  warnings.warn(\n",
      "C:\\Users\\Admin\\AppData\\Local\\Programs\\Python\\Python39\\lib\\site-packages\\paddle\\fluid\\reader.py:357: UserWarning: DataLoader with multi-process mode is not supported on MacOs and Windows currently. Please use signle-process mode with num_workers = 0 instead\n",
      "  warnings.warn(\n",
      "C:\\Users\\Admin\\AppData\\Local\\Programs\\Python\\Python39\\lib\\site-packages\\paddle\\fluid\\dygraph\\parallel.py:515: UserWarning: The program will return to single-card operation. Please check 1, whether you use spawn or fleetrun to start the program. 2, Whether it is a multi-card program. 3, Is the current environment multi-card.\n",
      "  warnings.warn(\"The program will return to single-card operation. \"\n",
      "C:\\Users\\Admin\\AppData\\Local\\Programs\\Python\\Python39\\lib\\site-packages\\paddle\\nn\\layer\\norm.py:640: UserWarning: When training, we now always track global mean and variance.\n",
      "  warnings.warn(\n"
     ]
    },
    {
     "name": "stdout",
     "output_type": "stream",
     "text": [
      "\n",
      "epoch: 1 step: 0 g_loss_gan: [-0.03795452] g_loss_feat: [5.1207247] g_loss_vgg: None g_loss_vae: None d_loss_f: [1.0741621] d_loss_r: [1.0070072]\n",
      "epoch: 1 step: 1 g_loss_gan: [-0.02869933] g_loss_feat: [5.756557] g_loss_vgg: None g_loss_vae: None d_loss_f: [1.0636718] d_loss_r: [1.0047593]\n",
      "epoch: 1 step: 2 g_loss_gan: [-0.03152861] g_loss_feat: [8.23034] g_loss_vgg: None g_loss_vae: None d_loss_f: [1.0676349] d_loss_r: [1.0073955]\n",
      "epoch: 1 step: 3 g_loss_gan: [-0.02532] g_loss_feat: [5.633415] g_loss_vgg: None g_loss_vae: None d_loss_f: [1.0580091] d_loss_r: [1.0054702]\n",
      "epoch: 1 step: 4 g_loss_gan: [-0.01901142] g_loss_feat: [6.6610303] g_loss_vgg: None g_loss_vae: None d_loss_f: [1.0752177] d_loss_r: [1.0287185]\n",
      "epoch: 1 step: 5 g_loss_gan: [-0.02668049] g_loss_feat: [5.532062] g_loss_vgg: None g_loss_vae: None d_loss_f: [1.0626523] d_loss_r: [1.0231953]\n",
      "epoch: 1 step: 6 g_loss_gan: [-0.04448926] g_loss_feat: [6.0300517] g_loss_vgg: None g_loss_vae: None d_loss_f: [1.082983] d_loss_r: [0.99486244]\n",
      "epoch: 1 step: 7 g_loss_gan: [-0.04388678] g_loss_feat: [6.1321964] g_loss_vgg: None g_loss_vae: None d_loss_f: [1.0781314] d_loss_r: [1.0001384]\n",
      "epoch: 1 step: 8 g_loss_gan: [-0.03490495] g_loss_feat: [5.903781] g_loss_vgg: None g_loss_vae: None d_loss_f: [1.0770727] d_loss_r: [1.0123353]\n",
      "epoch: 1 step: 9 g_loss_gan: [-0.03967341] g_loss_feat: [10.691391] g_loss_vgg: None g_loss_vae: None d_loss_f: [1.0833173] d_loss_r: [1.0029773]\n",
      "epoch: 1 step: 10 g_loss_gan: [-0.03009276] g_loss_feat: [5.882688] g_loss_vgg: None g_loss_vae: None d_loss_f: [1.0654216] d_loss_r: [1.0006763]\n",
      "epoch: 1 step: 11 g_loss_gan: [-0.05219039] g_loss_feat: [5.0012097] g_loss_vgg: None g_loss_vae: None d_loss_f: [1.0899484] d_loss_r: [1.0313158]\n",
      "epoch: 1 step: 12 g_loss_gan: [-0.01588988] g_loss_feat: [8.495227] g_loss_vgg: None g_loss_vae: None d_loss_f: [1.0591251] d_loss_r: [1.016191]\n",
      "第[1]轮模型保存完成。用时[00:12:03] 开始时间： 2021-09-10 14:57:37 结束时间： 2021-09-10 15:09:41\n"
     ]
    }
   ],
   "source": [
    "# todo list:\n",
    "# 改回 ngf ndf\n",
    "\n",
    "\n",
    "!python train.py"
   ]
  },
  {
   "cell_type": "code",
   "execution_count": 2,
   "id": "b0e6ca3f",
   "metadata": {
    "scrolled": true
   },
   "outputs": [
    {
     "name": "stdout",
     "output_type": "stream",
     "text": [
      "已经完成 [1] 轮训练，开始验证...\n",
      "读取存储的模型权重、优化器参数...\n"
     ]
    }
   ],
   "source": [
    "!python val.py"
   ]
  }
 ],
 "metadata": {
  "kernelspec": {
   "display_name": "Python 3",
   "language": "python",
   "name": "python3"
  },
  "language_info": {
   "codemirror_mode": {
    "name": "ipython",
    "version": 3
   },
   "file_extension": ".py",
   "mimetype": "text/x-python",
   "name": "python",
   "nbconvert_exporter": "python",
   "pygments_lexer": "ipython3",
   "version": "3.9.4"
  }
 },
 "nbformat": 4,
 "nbformat_minor": 5
}
