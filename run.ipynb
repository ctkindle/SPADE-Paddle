{
 "cells": [
  {
   "cell_type": "code",
   "execution_count": 12,
   "id": "341c7ad3",
   "metadata": {},
   "outputs": [
    {
     "name": "stdout",
     "output_type": "stream",
     "text": [
      "['current_epoch.npy', 'log.npy']"
     ]
    },
    {
     "name": "stderr",
     "output_type": "stream",
     "text": [
      "C:\\Users\\Admin\\AppData\\Local\\Programs\\Python\\Python39\\lib\\site-packages\\paddle\\distributed\\parallel.py:119: UserWarning: Currently not a parallel execution environment, `paddle.distributed.init_parallel_env` will not do anything."
     ]
    },
    {
     "name": "stdout",
     "output_type": "stream",
     "text": [
      "\n",
      "['n_d.pdopt', 'n_d.pdparams', 'n_e.pdparams', 'n_g.pdopt', 'n_g.pdparams']\n",
      "['1_0.jpg']\n",
      "已经完成 [1] 轮训练，开始继续训练...\n",
      "读取存储的模型权重、优化器参数...\n",
      "epoch: 2 step: 0 g_loss_gan: [-0.02479583] g_loss_feat: [7.302721] g_loss_vgg: None g_loss_vae: [7.1802964] d_loss_f: [1.0698106] d_loss_r: [0.9646333]\n",
      "第[2]轮模型保存完成。用时[00:01:11] 开始时间： 2021-08-10 21:09:45 结束时间： 2021-08-10 21:10:56\n"
     ]
    },
    {
     "name": "stderr",
     "output_type": "stream",
     "text": [
      "\n",
      "  warnings.warn(\n",
      "C:\\Users\\Admin\\AppData\\Local\\Programs\\Python\\Python39\\lib\\site-packages\\paddle\\fluid\\reader.py:357: UserWarning: DataLoader with multi-process mode is not supported on MacOs and Windows currently. Please use signle-process mode with num_workers = 0 instead\n",
      "  warnings.warn(\n",
      "C:\\Users\\Admin\\AppData\\Local\\Programs\\Python\\Python39\\lib\\site-packages\\paddle\\fluid\\dygraph\\parallel.py:515: UserWarning: The program will return to single-card operation. Please check 1, whether you use spawn or fleetrun to start the program. 2, Whether it is a multi-card program. 3, Is the current environment multi-card.\n",
      "  warnings.warn(\"The program will return to single-card operation. \"\n",
      "C:\\Users\\Admin\\AppData\\Local\\Programs\\Python\\Python39\\lib\\site-packages\\paddle\\nn\\layer\\norm.py:640: UserWarning: When training, we now always track global mean and variance.\n",
      "  warnings.warn(\n"
     ]
    }
   ],
   "source": [
    "# 改回ngf&ndf, 取消early stop， 启用vgg\n",
    "!python train.py"
   ]
  }
 ],
 "metadata": {
  "kernelspec": {
   "display_name": "Python 3",
   "language": "python",
   "name": "python3"
  },
  "language_info": {
   "codemirror_mode": {
    "name": "ipython",
    "version": 3
   },
   "file_extension": ".py",
   "mimetype": "text/x-python",
   "name": "python",
   "nbconvert_exporter": "python",
   "pygments_lexer": "ipython3",
   "version": "3.9.4"
  }
 },
 "nbformat": 4,
 "nbformat_minor": 5
}
