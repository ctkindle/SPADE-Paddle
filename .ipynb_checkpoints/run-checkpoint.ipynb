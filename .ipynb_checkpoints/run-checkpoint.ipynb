{
 "cells": [
  {
   "cell_type": "code",
   "execution_count": null,
   "id": "5f2fe727",
   "metadata": {},
   "outputs": [],
   "source": [
    "# todo list:\n",
    "# 改回 ngf ndf\n",
    "\n",
    "\n",
    "!python train.py"
   ]
  },
  {
   "cell_type": "code",
   "execution_count": 21,
   "id": "b0e6ca3f",
   "metadata": {
    "scrolled": true
   },
   "outputs": [
    {
     "name": "stdout",
     "output_type": "stream",
     "text": [
      "已经完成 [1] 轮训练，开始验证...\n",
      "读取存储的模型权重、优化器参数...\n"
     ]
    }
   ],
   "source": [
    "!python val.py"
   ]
  }
 ],
 "metadata": {
  "kernelspec": {
   "display_name": "Python 3",
   "language": "python",
   "name": "python3"
  },
  "language_info": {
   "codemirror_mode": {
    "name": "ipython",
    "version": 3
   },
   "file_extension": ".py",
   "mimetype": "text/x-python",
   "name": "python",
   "nbconvert_exporter": "python",
   "pygments_lexer": "ipython3",
   "version": "3.9.4"
  }
 },
 "nbformat": 4,
 "nbformat_minor": 5
}
