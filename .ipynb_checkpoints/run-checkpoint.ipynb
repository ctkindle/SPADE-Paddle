{
 "cells": [
  {
   "cell_type": "code",
   "execution_count": null,
   "id": "5f2fe727",
   "metadata": {},
   "outputs": [],
   "source": [
    "# todo list:\n",
    "# 改回 ngf ndf\n",
    "\n",
    "# 单卡训练\n",
    "!python train.py"
   ]
  },
  {
   "cell_type": "code",
   "execution_count": 13,
   "id": "b0e6ca3f",
   "metadata": {
    "scrolled": true
   },
   "outputs": [
    {
     "name": "stdout",
     "output_type": "stream",
     "text": [
      "已经完成 [1] 轮训练，开始验证...\n",
      "读取存储的模型权重、优化器参数...\n"
     ]
    }
   ],
   "source": [
    "# 验证\n",
    "!python val.py"
   ]
  },
  {
   "cell_type": "code",
   "execution_count": 23,
   "id": "eda39996",
   "metadata": {
    "scrolled": true
   },
   "outputs": [
    {
     "name": "stdout",
     "output_type": "stream",
     "text": [
      "开始验证...\n",
      "读取存储的模型权重...\n"
     ]
    }
   ],
   "source": [
    "# 预测\n",
    "!python predict.py"
   ]
  },
  {
   "cell_type": "code",
   "execution_count": 25,
   "id": "2e7a4689",
   "metadata": {},
   "outputs": [],
   "source": [
    "# 多卡训练\n",
    "!python -m paddle.distributed.launch train.py"
   ]
  }
 ],
 "metadata": {
  "kernelspec": {
   "display_name": "Python 3",
   "language": "python",
   "name": "python3"
  },
  "language_info": {
   "codemirror_mode": {
    "name": "ipython",
    "version": 3
   },
   "file_extension": ".py",
   "mimetype": "text/x-python",
   "name": "python",
   "nbconvert_exporter": "python",
   "pygments_lexer": "ipython3",
   "version": "3.9.4"
  }
 },
 "nbformat": 4,
 "nbformat_minor": 5
}
