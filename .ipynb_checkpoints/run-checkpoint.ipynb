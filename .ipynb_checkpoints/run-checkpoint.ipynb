{
 "cells": [
  {
   "cell_type": "code",
   "execution_count": 1,
   "id": "5f2fe727",
   "metadata": {},
   "outputs": [
    {
     "name": "stdout",
     "output_type": "stream",
     "text": [
      "初始化训练轮数，开始第 1 轮训练..."
     ]
    },
    {
     "name": "stderr",
     "output_type": "stream",
     "text": [
      "D:\\github_ws\\SPADE-Paddle\\model\\generator.py:15: DeprecationWarning: invalid escape sequence \\D\n",
      "  parsed = re.search('spade(\\D+)(\\d)x\\d', config_text)\n",
      "C:\\Users\\Admin\\AppData\\Local\\Programs\\Python\\Python39\\lib\\site-packages\\paddle\\distributed\\parallel.py:119: UserWarning: Currently not a parallel execution environment, `paddle.distributed.init_parallel_env` will not do anything.\n",
      "  warnings.warn(\n",
      "C:\\Users\\Admin\\AppData\\Local\\Programs\\Python\\Python39\\lib\\site-packages\\paddle\\fluid\\reader.py:357: UserWarning: DataLoader with multi-process mode is not supported on MacOs and Windows currently. Please use signle-process mode with num_workers = 0 instead\n",
      "  warnings.warn(\n",
      "C:\\Users\\Admin\\AppData\\Local\\Programs\\Python\\Python39\\lib\\site-packages\\paddle\\fluid\\dygraph\\parallel.py:515: UserWarning: The program will return to single-card operation. Please check 1, whether you use spawn or fleetrun to start the program. 2, Whether it is a multi-card program. 3, Is the current environment multi-card.\n",
      "  warnings.warn(\"The program will return to single-card operation. \"\n",
      "C:\\Users\\Admin\\AppData\\Local\\Programs\\Python\\Python39\\lib\\site-packages\\paddle\\nn\\layer\\norm.py:640: UserWarning: When training, we now always track global mean and variance.\n",
      "  warnings.warn(\n"
     ]
    },
    {
     "name": "stdout",
     "output_type": "stream",
     "text": [
      "\n",
      "epoch: 1 step: 0 g_loss_gan: [-0.03591563] g_loss_feat: [8.309673] g_loss_vgg: None g_loss_vae: None d_loss_f: [1.0843184] d_loss_r: [0.9837793]\n",
      "epoch: 1 step: 1 g_loss_gan: [-0.04053096] g_loss_feat: [6.4912376] g_loss_vgg: None g_loss_vae: None d_loss_f: [1.0896152] d_loss_r: [1.0045476]\n",
      "epoch: 1 step: 2 g_loss_gan: [-0.04545235] g_loss_feat: [8.8111515] g_loss_vgg: None g_loss_vae: None d_loss_f: [1.0822898] d_loss_r: [0.9825803]\n",
      "epoch: 1 step: 3 g_loss_gan: [-0.04486324] g_loss_feat: [7.3934026] g_loss_vgg: None g_loss_vae: None d_loss_f: [1.0791254] d_loss_r: [0.9917002]\n",
      "epoch: 1 step: 4 g_loss_gan: [-0.04122484] g_loss_feat: [7.823103] g_loss_vgg: None g_loss_vae: None d_loss_f: [1.0921464] d_loss_r: [1.0075434]\n",
      "epoch: 1 step: 5 g_loss_gan: [-0.04080416] g_loss_feat: [8.675585] g_loss_vgg: None g_loss_vae: None d_loss_f: [1.0795674] d_loss_r: [0.97843885]\n",
      "epoch: 1 step: 6 g_loss_gan: [-0.02241209] g_loss_feat: [6.574874] g_loss_vgg: None g_loss_vae: None d_loss_f: [1.068306] d_loss_r: [0.9871905]\n",
      "epoch: 1 step: 7 g_loss_gan: [-0.04661473] g_loss_feat: [8.925915] g_loss_vgg: None g_loss_vae: None d_loss_f: [1.0989716] d_loss_r: [0.97313344]\n",
      "epoch: 1 step: 8 g_loss_gan: [-0.04454265] g_loss_feat: [8.186515] g_loss_vgg: None g_loss_vae: None d_loss_f: [1.089817] d_loss_r: [0.98826134]\n",
      "epoch: 1 step: 9 g_loss_gan: [-0.03939227] g_loss_feat: [11.3817005] g_loss_vgg: None g_loss_vae: None d_loss_f: [1.0937879] d_loss_r: [0.9882832]\n",
      "epoch: 1 step: 10 g_loss_gan: [-0.05240528] g_loss_feat: [7.3209734] g_loss_vgg: None g_loss_vae: None d_loss_f: [1.099864] d_loss_r: [0.98267543]\n",
      "epoch: 1 step: 11 g_loss_gan: [-0.02794353] g_loss_feat: [4.2422194] g_loss_vgg: None g_loss_vae: None d_loss_f: [1.0794641] d_loss_r: [1.0132382]\n",
      "epoch: 1 step: 12 g_loss_gan: [-0.03969746] g_loss_feat: [8.256329] g_loss_vgg: None g_loss_vae: None d_loss_f: [1.0798061] d_loss_r: [0.9735233]\n",
      "第[1]轮模型保存完成。用时[00:13:00] 开始时间： 2021-09-10 16:12:48 结束时间： 2021-09-10 16:25:48\n"
     ]
    }
   ],
   "source": [
    "# todo list:\n",
    "# 改回 ngf ndf\n",
    "\n",
    "\n",
    "!python train.py"
   ]
  },
  {
   "cell_type": "code",
   "execution_count": 2,
   "id": "b0e6ca3f",
   "metadata": {
    "scrolled": true
   },
   "outputs": [
    {
     "name": "stdout",
     "output_type": "stream",
     "text": [
      "已经完成 [1] 轮训练，开始验证...\n",
      "读取存储的模型权重、优化器参数...\n"
     ]
    }
   ],
   "source": [
    "!python val.py"
   ]
  }
 ],
 "metadata": {
  "kernelspec": {
   "display_name": "Python 3",
   "language": "python",
   "name": "python3"
  },
  "language_info": {
   "codemirror_mode": {
    "name": "ipython",
    "version": 3
   },
   "file_extension": ".py",
   "mimetype": "text/x-python",
   "name": "python",
   "nbconvert_exporter": "python",
   "pygments_lexer": "ipython3",
   "version": "3.9.4"
  }
 },
 "nbformat": 4,
 "nbformat_minor": 5
}
